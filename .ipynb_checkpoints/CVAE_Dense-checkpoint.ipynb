{
 "cells": [
  {
   "cell_type": "code",
   "execution_count": 1,
   "metadata": {
    "id": "VTapRhp-6yuQ"
   },
   "outputs": [],
   "source": [
    "import numpy as np\n",
    "import tensorflow as tf\n",
    "from tensorflow import keras\n",
    "from tensorflow.keras import layers"
   ]
  },
  {
   "cell_type": "markdown",
   "metadata": {},
   "source": [
    "# Create the C-VAE"
   ]
  },
  {
   "cell_type": "code",
   "execution_count": 2,
   "metadata": {
    "id": "MXrRz1ga7H69"
   },
   "outputs": [],
   "source": [
    "class Sampling(layers.Layer):\n",
    "    \"\"\"Uses (z_mean, z_log_var) to sample z, the vector encoding a digit.\"\"\"\n",
    "\n",
    "    def call(self, inputs):\n",
    "        z_mean, z_log_var = inputs\n",
    "        batch = tf.shape(z_mean)[0]\n",
    "        dim = tf.shape(z_mean)[1]\n",
    "        epsilon = tf.keras.backend.random_normal(shape=(batch, dim))\n",
    "        return z_mean + tf.exp(0.5 * z_log_var) * epsilon"
   ]
  },
  {
   "cell_type": "code",
   "execution_count": 3,
   "metadata": {
    "colab": {
     "base_uri": "https://localhost:8080/"
    },
    "id": "nUpsw86169Zc",
    "outputId": "e0c0329a-d6f9-4cc6-f2e8-831728fde3bb"
   },
   "outputs": [
    {
     "name": "stdout",
     "output_type": "stream",
     "text": [
      "Model: \"encoder\"\n",
      "__________________________________________________________________________________________________\n",
      "Layer (type)                    Output Shape         Param #     Connected to                     \n",
      "==================================================================================================\n",
      "input_1 (InputLayer)            [(None, 784)]        0                                            \n",
      "__________________________________________________________________________________________________\n",
      "dense (Dense)                   (None, 32)           25120       input_1[0][0]                    \n",
      "__________________________________________________________________________________________________\n",
      "dense_1 (Dense)                 (None, 16)           528         dense[0][0]                      \n",
      "__________________________________________________________________________________________________\n",
      "z_mean (Dense)                  (None, 4)            68          dense_1[0][0]                    \n",
      "__________________________________________________________________________________________________\n",
      "z_log_var (Dense)               (None, 4)            68          dense_1[0][0]                    \n",
      "__________________________________________________________________________________________________\n",
      "sampling (Sampling)             (None, 4)            0           z_mean[0][0]                     \n",
      "                                                                 z_log_var[0][0]                  \n",
      "==================================================================================================\n",
      "Total params: 25,784\n",
      "Trainable params: 25,784\n",
      "Non-trainable params: 0\n",
      "__________________________________________________________________________________________________\n"
     ]
    }
   ],
   "source": [
    "def create_encoder(latent_dim):\n",
    "    latent_dim = 2\n",
    "    encoder_inputs = keras.Input(shape=(784))\n",
    "    x = layers.Dense(32, activation=\"relu\")(encoder_inputs)\n",
    "    x = layers.Dense(16, activation=\"relu\")(x)\n",
    "    z_mean = layers.Dense(latent_dim, name=\"z_mean\")(x)\n",
    "    z_log_var = layers.Dense(latent_dim, name=\"z_log_var\")(x)\n",
    "    z = Sampling()([z_mean, z_log_var])\n",
    "    encoder = keras.Model(encoder_inputs, [z_mean, z_log_var, z], name=\"encoder\")\n",
    "    encoder.summary()\n",
    "    return encoder"
   ]
  },
  {
   "cell_type": "code",
   "execution_count": 4,
   "metadata": {
    "colab": {
     "base_uri": "https://localhost:8080/"
    },
    "id": "PBFbFeyy7DpF",
    "outputId": "2e62c8e6-b414-495f-884b-142915c6db2a"
   },
   "outputs": [
    {
     "name": "stdout",
     "output_type": "stream",
     "text": [
      "Model: \"decoder\"\n",
      "_________________________________________________________________\n",
      "Layer (type)                 Output Shape              Param #   \n",
      "=================================================================\n",
      "input_2 (InputLayer)         [(None, 5)]               0         \n",
      "_________________________________________________________________\n",
      "dense_2 (Dense)              (None, 16)                96        \n",
      "_________________________________________________________________\n",
      "dense_3 (Dense)              (None, 32)                544       \n",
      "_________________________________________________________________\n",
      "dense_4 (Dense)              (None, 784)               25872     \n",
      "=================================================================\n",
      "Total params: 26,512\n",
      "Trainable params: 26,512\n",
      "Non-trainable params: 0\n",
      "_________________________________________________________________\n"
     ]
    }
   ],
   "source": [
    "latent_inputs = keras.Input(shape=(latent_dim + 1,))\n",
    "# cond_label = keras.Input(shape=(1,))\n",
    "# concat_input = tf.keras.layers.Concatenate()([latent_inputs, cond_label])\n",
    "x = layers.Dense(16, activation=\"relu\")(latent_inputs)\n",
    "x = layers.Dense(32,activation=\"relu\")(x)\n",
    "decoder_outputs = layers.Dense(28*28,activation=\"sigmoid\")(x)\n",
    "\n",
    "decoder = keras.Model(inputs=latent_inputs, outputs=decoder_outputs, name=\"decoder\")\n",
    "\n",
    "decoder.summary()"
   ]
  },
  {
   "cell_type": "code",
   "execution_count": 5,
   "metadata": {
    "id": "7i-CcI2Q9RkJ"
   },
   "outputs": [],
   "source": [
    "class VAE(keras.Model):\n",
    "    def __init__(self, encoder, decoder, **kwargs):\n",
    "        super(VAE, self).__init__(**kwargs)\n",
    "        self.encoder = encoder\n",
    "        self.decoder = decoder\n",
    "\n",
    "    def train_step(self, combined_input):\n",
    "        print(combined_input[0].shape)\n",
    "        print(combined_input[1].shape)\n",
    "\n",
    "        data = combined_input[0] # [0]\n",
    "        label = combined_input[1]\n",
    "\n",
    "        if isinstance(data, tuple):\n",
    "            data = data[0]\n",
    "        with tf.GradientTape() as tape:\n",
    "            z_mean, z_log_var, z = encoder(data)\n",
    "            z_c = tf.keras.layers.concatenate([z, label])\n",
    "            reconstruction = decoder(z_c)\n",
    "            reconstruction_loss = tf.reduce_mean(\n",
    "                keras.losses.binary_crossentropy(data, reconstruction)\n",
    "            )\n",
    "            reconstruction_loss *= 28 * 28\n",
    "            kl_loss = 1 + z_log_var - tf.square(z_mean) - tf.exp(z_log_var)\n",
    "            kl_loss = tf.reduce_mean(kl_loss)\n",
    "            kl_loss *= -0.5\n",
    "            total_loss = reconstruction_loss + kl_loss\n",
    "        grads = tape.gradient(total_loss, self.trainable_weights)\n",
    "        self.optimizer.apply_gradients(zip(grads, self.trainable_weights))\n",
    "        return {\n",
    "            \"loss\": total_loss,\n",
    "            \"reconstruction_loss\": reconstruction_loss,\n",
    "            \"kl_loss\": kl_loss,\n",
    "        }"
   ]
  },
  {
   "cell_type": "code",
   "execution_count": 6,
   "metadata": {
    "colab": {
     "base_uri": "https://localhost:8080/"
    },
    "id": "l75TEdqS9hXi",
    "outputId": "8b00d4a2-3d75-4fc5-c030-5dd65ff93a2d"
   },
   "outputs": [
    {
     "name": "stdout",
     "output_type": "stream",
     "text": [
      "   Unnamed: 0     0    1    2    3    4    5  ...  778  779  780  781  782  783  784\n",
      "0           0  0.05  1.0  1.0  1.0  1.0  1.0  ...  1.0  1.0  1.0  1.0  1.0  1.0  1.0\n",
      "1           1  0.05  1.0  1.0  1.0  1.0  1.0  ...  1.0  1.0  1.0  1.0  1.0  1.0  1.0\n",
      "2           2  0.05  1.0  1.0  1.0  1.0  1.0  ...  1.0  1.0  1.0  1.0  1.0  1.0  1.0\n",
      "3           3  0.05  1.0  1.0  1.0  1.0  1.0  ...  1.0  1.0  1.0  1.0  1.0  1.0  1.0\n",
      "4           4  0.05  1.0  1.0  1.0  1.0  1.0  ...  1.0  1.0  1.0  1.0  1.0  1.0  1.0\n",
      "\n",
      "[5 rows x 786 columns]\n",
      "(5000, 784)\n"
     ]
    }
   ],
   "source": [
    "# Your input is here\n",
    "import pandas as pd\n",
    "data = pd.read_csv('ising_magnetization_data_wm100_img100_2')\n",
    "print(data.head())\n",
    "data_labels=np.array(data['0'])\n",
    "data_labels = np.expand_dims(data_labels , -1).astype(\"float32\")\n",
    "temp = data['0'][0::100]\n",
    "# drop the labels\n",
    "data_wo_labels= data.drop(['Unnamed: 0','0'],axis=1)\n",
    "\n",
    "data_in_array = np.array(data_wo_labels)\n",
    "#data_in_2d_arrays = data_in_array.reshape((-1, 28, 28, 1))\n",
    "#print(data_in_2d_arrays.shape)\n",
    "print(data_in_array.shape)"
   ]
  },
  {
   "cell_type": "code",
   "execution_count": 7,
   "metadata": {
    "id": "w_0olUSX-Wub"
   },
   "outputs": [],
   "source": [
    "# data_wo_labels.head()\n",
    "\n"
   ]
  },
  {
   "cell_type": "code",
   "execution_count": 8,
   "metadata": {
    "colab": {
     "base_uri": "https://localhost:8080/"
    },
    "id": "B08DN9um9kMl",
    "outputId": "38583f5b-aad8-4be8-c059-a00995c5b6fd"
   },
   "outputs": [
    {
     "name": "stdout",
     "output_type": "stream",
     "text": [
      "Epoch 1/30\n",
      "(2, 784)\n",
      "(2, 1)\n",
      "(2, 784)\n",
      "(2, 1)\n",
      "2500/2500 [==============================] - 6s 2ms/step - loss: 328.8219 - reconstruction_loss: 324.8755 - kl_loss: 3.9464\n",
      "Epoch 2/30\n",
      "2500/2500 [==============================] - 6s 2ms/step - loss: 315.9219 - reconstruction_loss: 314.1091 - kl_loss: 1.8128\n",
      "Epoch 3/30\n",
      "2500/2500 [==============================] - 6s 2ms/step - loss: 314.5010 - reconstruction_loss: 312.9951 - kl_loss: 1.5059\n",
      "Epoch 4/30\n",
      "2500/2500 [==============================] - 5s 2ms/step - loss: 313.4264 - reconstruction_loss: 312.2297 - kl_loss: 1.1967\n",
      "Epoch 5/30\n",
      "2500/2500 [==============================] - 6s 2ms/step - loss: 312.9341 - reconstruction_loss: 311.8553 - kl_loss: 1.0788\n",
      "Epoch 6/30\n",
      "2500/2500 [==============================] - 6s 2ms/step - loss: 312.7333 - reconstruction_loss: 311.7313 - kl_loss: 1.0020\n",
      "Epoch 7/30\n",
      "2500/2500 [==============================] - 6s 2ms/step - loss: 312.6451 - reconstruction_loss: 311.6990 - kl_loss: 0.9461\n",
      "Epoch 8/30\n",
      "2500/2500 [==============================] - 5s 2ms/step - loss: 312.4355 - reconstruction_loss: 311.5385 - kl_loss: 0.8970\n",
      "Epoch 9/30\n",
      "2500/2500 [==============================] - 6s 2ms/step - loss: 312.2303 - reconstruction_loss: 311.3512 - kl_loss: 0.8792\n",
      "Epoch 10/30\n",
      "2500/2500 [==============================] - 6s 2ms/step - loss: 312.3444 - reconstruction_loss: 311.4730 - kl_loss: 0.8714\n",
      "Epoch 11/30\n",
      "2500/2500 [==============================] - 6s 2ms/step - loss: 312.3552 - reconstruction_loss: 311.4820 - kl_loss: 0.8733\n",
      "Epoch 12/30\n",
      "2500/2500 [==============================] - 6s 2ms/step - loss: 312.1407 - reconstruction_loss: 311.2859 - kl_loss: 0.8548\n",
      "Epoch 13/30\n",
      "2500/2500 [==============================] - 6s 2ms/step - loss: 312.1656 - reconstruction_loss: 311.3181 - kl_loss: 0.8475\n",
      "Epoch 14/30\n",
      "2500/2500 [==============================] - 6s 2ms/step - loss: 312.0903 - reconstruction_loss: 311.2602 - kl_loss: 0.8302\n",
      "Epoch 15/30\n",
      "2500/2500 [==============================] - 6s 2ms/step - loss: 312.0380 - reconstruction_loss: 311.2074 - kl_loss: 0.8306\n",
      "Epoch 16/30\n",
      "2500/2500 [==============================] - 6s 2ms/step - loss: 312.0103 - reconstruction_loss: 311.1734 - kl_loss: 0.8369\n",
      "Epoch 17/30\n",
      "2500/2500 [==============================] - 6s 2ms/step - loss: 312.1047 - reconstruction_loss: 311.2945 - kl_loss: 0.8102\n",
      "Epoch 18/30\n",
      "2500/2500 [==============================] - 6s 2ms/step - loss: 312.0170 - reconstruction_loss: 311.2010 - kl_loss: 0.8160\n",
      "Epoch 19/30\n",
      "2500/2500 [==============================] - 6s 2ms/step - loss: 312.0689 - reconstruction_loss: 311.2572 - kl_loss: 0.8116\n",
      "Epoch 20/30\n",
      "2500/2500 [==============================] - 5s 2ms/step - loss: 311.8467 - reconstruction_loss: 311.0314 - kl_loss: 0.8153\n",
      "Epoch 21/30\n",
      "2500/2500 [==============================] - 6s 2ms/step - loss: 311.8675 - reconstruction_loss: 311.0443 - kl_loss: 0.8232\n",
      "Epoch 22/30\n",
      "2500/2500 [==============================] - 6s 2ms/step - loss: 311.6789 - reconstruction_loss: 310.8692 - kl_loss: 0.8097\n",
      "Epoch 23/30\n",
      "2500/2500 [==============================] - 6s 2ms/step - loss: 311.8810 - reconstruction_loss: 311.0621 - kl_loss: 0.8188\n",
      "Epoch 24/30\n",
      "2500/2500 [==============================] - 6s 2ms/step - loss: 311.7292 - reconstruction_loss: 310.9264 - kl_loss: 0.8027\n",
      "Epoch 25/30\n",
      "2500/2500 [==============================] - 6s 2ms/step - loss: 311.6971 - reconstruction_loss: 310.9093 - kl_loss: 0.7877\n",
      "Epoch 26/30\n",
      "2500/2500 [==============================] - 6s 2ms/step - loss: 311.7743 - reconstruction_loss: 310.9895 - kl_loss: 0.7848\n",
      "Epoch 27/30\n",
      "2500/2500 [==============================] - 6s 2ms/step - loss: 311.6509 - reconstruction_loss: 310.8810 - kl_loss: 0.7698\n",
      "Epoch 28/30\n",
      "2500/2500 [==============================] - 6s 2ms/step - loss: 311.6590 - reconstruction_loss: 310.8859 - kl_loss: 0.7732\n",
      "Epoch 29/30\n",
      "2500/2500 [==============================] - 6s 2ms/step - loss: 312.3131 - reconstruction_loss: 311.5349 - kl_loss: 0.7782\n",
      "Epoch 30/30\n",
      "2500/2500 [==============================] - 6s 2ms/step - loss: 311.5344 - reconstruction_loss: 310.7395 - kl_loss: 0.7949\n"
     ]
    },
    {
     "data": {
      "text/plain": [
       "<tensorflow.python.keras.callbacks.History at 0x7f0132501860>"
      ]
     },
     "execution_count": 8,
     "metadata": {
      "tags": []
     },
     "output_type": "execute_result"
    }
   ],
   "source": [
    "vae = VAE(encoder, decoder)\n",
    "vae.compile(optimizer=keras.optimizers.Adam())\n",
    "vae.fit(data_in_array, data_labels, epochs=30, batch_size=2)"
   ]
  },
  {
   "cell_type": "markdown",
   "metadata": {
    "id": "N16grqVW9tq3"
   },
   "source": [
    "# Sampling"
   ]
  },
  {
   "cell_type": "code",
   "execution_count": 9,
   "metadata": {
    "colab": {
     "base_uri": "https://localhost:8080/",
     "height": 282
    },
    "id": "a-QY41NsDtIg",
    "outputId": "63c1dd93-ce06-43d1-bc6f-cbf7c4b6c507"
   },
   "outputs": [
    {
     "name": "stdout",
     "output_type": "stream",
     "text": [
      "-0.8214285714285714\n"
     ]
    },
    {
     "data": {
      "image/png": "[encoded data removed]",
      "text/plain": [
       "<Figure size 432x288 with 1 Axes>"
      ]
     },
     "metadata": {
      "needs_background": "light",
      "tags": []
     },
     "output_type": "display_data"
    }
   ],
   "source": [
    "import matplotlib.pyplot as plt\n",
    "z1=np.random.normal()\n",
    "z2=np.random.normal()\n",
    "\n",
    "z_sample = [[z1, z2,4.95]]\n",
    "x_decoded = decoder.predict(z_sample)\n",
    "mag=np.sum(2*np.around(np.array(x_decoded)) - 1)/(28*28)\n",
    "x_reshape = x_decoded.reshape((28, 28))\n",
    "plt.imshow(np.around(x_reshape))\n",
    "print(mag)\n"
   ]
  },
  {
   "cell_type": "code",
   "execution_count": null,
   "metadata": {},
   "outputs": [],
   "source": [
    "def get_magnetization(latent_dim):\n",
    "    mag_data = []\n",
    "    "
   ]
  },
  {
   "cell_type": "code",
   "execution_count": 12,
   "metadata": {
    "id": "JNDryuNGDx4k"
   },
   "outputs": [],
   "source": [
    "mag_data=[]\n",
    "for t in temp:\n",
    "  mag=0\n",
    "  for i in range(100):\n",
    "    z1=np.random.normal()\n",
    "    z2=np.random.normal()\n",
    "    z1=np.random.normal()\n",
    "    z2=np.random.normal()\n",
    "    z3=np.random.normal()\n",
    "    z4=np.random.normal()\n",
    "    z_sample = [[z1, z2,z3,z4,t]]\n",
    "    x_decoded = decoder.predict(z_sample)\n",
    "    mag=np.abs(np.sum((2*np.array(x_decoded) - 1)/(28*28))) + mag\n",
    "  mag_data.append(mag/100)\n",
    " \n"
   ]
  },
  {
   "cell_type": "code",
   "execution_count": null,
   "metadata": {
    "colab": {
     "base_uri": "https://localhost:8080/",
     "height": 282
    },
    "id": "Z_TjWscQD0cn",
    "outputId": "575f10a3-6c94-4c0a-cd46-a624515bda44"
   },
   "outputs": [
    {
     "data": {
      "text/plain": [
       "<matplotlib.image.AxesImage at 0x7f5a8b49f470>"
      ]
     },
     "execution_count": 51,
     "metadata": {
      "tags": []
     },
     "output_type": "execute_result"
    },
    {
     "data": {
      "image/png": "[encoded data removed]",
      "text/plain": [
       "<Figure size 432x288 with 1 Axes>"
      ]
     },
     "metadata": {
      "needs_background": "light",
      "tags": []
     },
     "output_type": "display_data"
    }
   ],
   "source": [
    "plt.imshow(np.around(x_reshape))"
   ]
  },
  {
   "cell_type": "code",
   "execution_count": 13,
   "metadata": {
    "colab": {
     "base_uri": "https://localhost:8080/"
    },
    "id": "eXW2RxECD2IY",
    "outputId": "fad1646c-b65e-4e91-aaa2-58420a0fb3e6"
   },
   "outputs": [
    {
     "name": "stdout",
     "output_type": "stream",
     "text": [
      "[0.9794993716478347, 0.9693069583177567, 0.9698590302467346, 0.9632191598415375, 0.9447487223148346, 0.8364344529807568, 0.7737897136807441, 0.7722008710540831, 0.7344412595406175, 0.7503393229842186, 0.7603834011405707, 0.7712975301407278, 0.7012121957167983, 0.6610109908506274, 0.6431930524855852, 0.6660457213409245, 0.6346645778045058, 0.5927231920091436, 0.567650242310483, 0.5216788828466088, 0.5151436812244355, 0.5248539744690061, 0.5012082634307444, 0.5247287802211941, 0.43751471385359764, 0.4292076152423397, 0.4910565708577633, 0.4588456620334182, 0.4164588531292975, 0.42497425138484685, 0.36517612702213226, 0.3915393293369561, 0.35393853481684345, 0.3370229124510661, 0.34535219576209786, 0.3983249329030514, 0.37313706651795653, 0.3187049951753579, 0.3624634425388649, 0.38410415723221375, 0.3437868481082842, 0.32246385073289274, 0.3345611409842968, 0.36089896205579863, 0.34625424777623265, 0.3283938662335277, 0.3174664063099772, 0.31815558245405556, 0.32078225050587206, 0.29105392429977656]\n"
     ]
    }
   ],
   "source": [
    "print(mag_data)"
   ]
  },
  {
   "cell_type": "code",
   "execution_count": 14,
   "metadata": {
    "id": "GpFQY-0DZecS"
   },
   "outputs": [],
   "source": [
    "def magnetization(t):\n",
    "    return (1-(np.sinh(2/t)**(-4)))**(0.125)"
   ]
  },
  {
   "cell_type": "code",
   "execution_count": 24,
   "metadata": {
    "colab": {
     "base_uri": "https://localhost:8080/"
    },
    "id": "0nuMFFNsZkH1",
    "outputId": "926d6bbf-931b-4d08-c5d1-900b60c090fc"
   },
   "outputs": [
    {
     "name": "stderr",
     "output_type": "stream",
     "text": [
      "/usr/local/lib/python3.6/dist-packages/ipykernel_launcher.py:2: RuntimeWarning: invalid value encountered in double_scalars\n",
      "  \n"
     ]
    }
   ],
   "source": [
    "x_data = np.arange(.05,3.5,0.001)\n",
    "data_y = [magnetization(t) for t in x_data]"
   ]
  },
  {
   "cell_type": "code",
   "execution_count": 25,
   "metadata": {
    "colab": {
     "base_uri": "https://localhost:8080/",
     "height": 265
    },
    "id": "1CCqScAkXbml",
    "outputId": "ecacd457-73c5-4082-a08b-fac99f013a13"
   },
   "outputs": [
    {
     "data": {
      "image/png": "[encoded data removed]",
      "text/plain": [
       "<Figure size 432x288 with 1 Axes>"
      ]
     },
     "metadata": {
      "needs_background": "light",
      "tags": []
     },
     "output_type": "display_data"
    }
   ],
   "source": [
    "plt.plot(temp,mag_data,'x',x_data,data_y)\n",
    "\n",
    "\n",
    "plt.grid()"
   ]
  },
  {
   "cell_type": "code",
   "execution_count": null,
   "metadata": {
    "id": "IC76z64lXgQH"
   },
   "outputs": [],
   "source": [
    "np.savetxt(\"dense_data1_exp\",mag_data)"
   ]
  },
  {
   "cell_type": "code",
   "execution_count": null,
   "metadata": {
    "id": "R7uoNUoFX4wY"
   },
   "outputs": [],
   "source": []
  }
 ],
 "metadata": {
  "accelerator": "GPU",
  "colab": {
   "name": "CVAE_Dense.ipynb",
   "provenance": [],
   "toc_visible": true
  },
  "kernelspec": {
   "display_name": "Python 3",
   "language": "python",
   "name": "python3"
  },
  "language_info": {
   "codemirror_mode": {
    "name": "ipython",
    "version": 3
   },
   "file_extension": ".py",
   "mimetype": "text/x-python",
   "name": "python",
   "nbconvert_exporter": "python",
   "pygments_lexer": "ipython3",
   "version": "3.7.4"
  }
 },
 "nbformat": 4,
 "nbformat_minor": 1
}
