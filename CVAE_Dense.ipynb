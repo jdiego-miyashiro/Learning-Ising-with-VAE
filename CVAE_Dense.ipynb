{
  "nbformat": 4,
  "nbformat_minor": 0,
  "metadata": {
    "colab": {
      "name": "CVAE_Dense.ipynb",
      "provenance": [],
      "collapsed_sections": [],
      "toc_visible": true
    },
    "kernelspec": {
      "name": "python3",
      "display_name": "Python 3"
    },
    "accelerator": "GPU"
  },
  "cells": [
    {
      "cell_type": "code",
      "metadata": {
        "id": "VTapRhp-6yuQ"
      },
      "source": [
        "import numpy as np\r\n",
        "import tensorflow as tf\r\n",
        "from tensorflow import keras\r\n",
        "from tensorflow.keras import layers"
      ],
      "execution_count": 1,
      "outputs": []
    },
    {
      "cell_type": "code",
      "metadata": {
        "id": "MXrRz1ga7H69"
      },
      "source": [
        "class Sampling(layers.Layer):\r\n",
        "    \"\"\"Uses (z_mean, z_log_var) to sample z, the vector encoding a digit.\"\"\"\r\n",
        "\r\n",
        "    def call(self, inputs):\r\n",
        "        z_mean, z_log_var = inputs\r\n",
        "        batch = tf.shape(z_mean)[0]\r\n",
        "        dim = tf.shape(z_mean)[1]\r\n",
        "        epsilon = tf.keras.backend.random_normal(shape=(batch, dim))\r\n",
        "        return z_mean + tf.exp(0.5 * z_log_var) * epsilon"
      ],
      "execution_count": 2,
      "outputs": []
    },
    {
      "cell_type": "code",
      "metadata": {
        "id": "nUpsw86169Zc"
      },
      "source": [
        "def create_encoder(latent_dim):\r\n",
        "  latent_dim = latent_dim\r\n",
        "  encoder_inputs = keras.Input(shape=(784))\r\n",
        "  x = layers.Dense(32, activation=\"relu\")(encoder_inputs)\r\n",
        "  x = layers.Dense(16, activation=\"relu\")(x)\r\n",
        "  z_mean = layers.Dense(latent_dim, name=\"z_mean\")(x)\r\n",
        "  z_log_var = layers.Dense(latent_dim, name=\"z_log_var\")(x)\r\n",
        "  z = Sampling()([z_mean, z_log_var])\r\n",
        "  encoder = keras.Model(encoder_inputs, [z_mean, z_log_var, z], name=\"encoder\")\r\n",
        "  return encoder\r\n",
        " "
      ],
      "execution_count": 3,
      "outputs": []
    },
    {
      "cell_type": "code",
      "metadata": {
        "id": "PBFbFeyy7DpF"
      },
      "source": [
        "def create_decoder(latent_dim):\r\n",
        "  latent_dim = latent_dim\r\n",
        "  latent_inputs = keras.Input(shape=(latent_dim + 1,))\r\n",
        "  # cond_label = keras.Input(shape=(1,))\r\n",
        "  # concat_input = tf.keras.layers.Concatenate()([latent_inputs, cond_label])\r\n",
        "  x = layers.Dense(16, activation=\"relu\")(latent_inputs)\r\n",
        "  x = layers.Dense(32,activation=\"relu\")(x)\r\n",
        "  decoder_outputs = layers.Dense(28*28,activation=\"sigmoid\")(x)\r\n",
        "\r\n",
        "  decoder = keras.Model(inputs=latent_inputs, outputs=decoder_outputs, name=\"decoder\")\r\n",
        "  return decoder\r\n",
        "\r\n"
      ],
      "execution_count": 4,
      "outputs": []
    },
    {
      "cell_type": "code",
      "metadata": {
        "id": "7i-CcI2Q9RkJ"
      },
      "source": [
        "class VAE(keras.Model):\r\n",
        "    def __init__(self, encoder, decoder, **kwargs):\r\n",
        "        super(VAE, self).__init__(**kwargs)\r\n",
        "        self.encoder = encoder\r\n",
        "        self.decoder = decoder\r\n",
        "\r\n",
        "    def train_step(self, combined_input):\r\n",
        "        print(combined_input[0].shape)\r\n",
        "        print(combined_input[1].shape)\r\n",
        "\r\n",
        "        data = combined_input[0] # [0]\r\n",
        "        label = combined_input[1]\r\n",
        "\r\n",
        "        if isinstance(data, tuple):\r\n",
        "            data = data[0]\r\n",
        "        with tf.GradientTape() as tape:\r\n",
        "            z_mean, z_log_var, z = encoder(data)\r\n",
        "            z_c = tf.keras.layers.concatenate([z, label])\r\n",
        "            reconstruction = decoder(z_c)\r\n",
        "            reconstruction_loss = tf.reduce_mean(\r\n",
        "                keras.losses.binary_crossentropy(data, reconstruction)\r\n",
        "            )\r\n",
        "            reconstruction_loss *= 28 * 28\r\n",
        "            kl_loss = 1 + z_log_var - tf.square(z_mean) - tf.exp(z_log_var)\r\n",
        "            kl_loss = 5*tf.reduce_mean(kl_loss)\r\n",
        "            kl_loss *= -0.5\r\n",
        "            total_loss = reconstruction_loss + kl_loss\r\n",
        "        grads = tape.gradient(total_loss, self.trainable_weights)\r\n",
        "        self.optimizer.apply_gradients(zip(grads, self.trainable_weights))\r\n",
        "        return {\r\n",
        "            \"loss\": total_loss,\r\n",
        "            \"reconstruction_loss\": reconstruction_loss,\r\n",
        "            \"kl_loss\": kl_loss,\r\n",
        "        }"
      ],
      "execution_count": 5,
      "outputs": []
    },
    {
      "cell_type": "code",
      "metadata": {
        "colab": {
          "base_uri": "https://localhost:8080/"
        },
        "id": "l75TEdqS9hXi",
        "outputId": "77fbc976-2392-4a39-de71-3ea76942bc7a"
      },
      "source": [
        "# Your input is here\r\n",
        "import pandas as pd\r\n",
        "data = pd.read_csv('ising_magnetization_data_wm100_img100_2')\r\n",
        "print(data.head())\r\n",
        "data_labels=np.array(data['0'])\r\n",
        "data_labels = np.expand_dims(data_labels , -1).astype(\"float32\")\r\n",
        "temp = data['0'][0::100]\r\n",
        "# drop the labels\r\n",
        "data_wo_labels= data.drop(['Unnamed: 0','0'],axis=1)\r\n",
        "\r\n",
        "data_in_array = np.array(data_wo_labels)\r\n",
        "#data_in_2d_arrays = data_in_array.reshape((-1, 28, 28, 1))\r\n",
        "#print(data_in_2d_arrays.shape)\r\n",
        "print(data_in_array.shape)"
      ],
      "execution_count": 6,
      "outputs": [
        {
          "output_type": "stream",
          "text": [
            "   Unnamed: 0     0    1    2    3    4    5  ...  778  779  780  781  782  783  784\n",
            "0           0  0.05  1.0  1.0  1.0  1.0  1.0  ...  1.0  1.0  1.0  1.0  1.0  1.0  1.0\n",
            "1           1  0.05  1.0  1.0  1.0  1.0  1.0  ...  1.0  1.0  1.0  1.0  1.0  1.0  1.0\n",
            "2           2  0.05  1.0  1.0  1.0  1.0  1.0  ...  1.0  1.0  1.0  1.0  1.0  1.0  1.0\n",
            "3           3  0.05  1.0  1.0  1.0  1.0  1.0  ...  1.0  1.0  1.0  1.0  1.0  1.0  1.0\n",
            "4           4  0.05  1.0  1.0  1.0  1.0  1.0  ...  1.0  1.0  1.0  1.0  1.0  1.0  1.0\n",
            "\n",
            "[5 rows x 786 columns]\n",
            "(5000, 784)\n"
          ],
          "name": "stdout"
        }
      ]
    },
    {
      "cell_type": "markdown",
      "metadata": {
        "id": "4Bsz_plGjEoc"
      },
      "source": [
        "# Sección nueva"
      ]
    },
    {
      "cell_type": "code",
      "metadata": {
        "id": "w_0olUSX-Wub",
        "colab": {
          "base_uri": "https://localhost:8080/"
        },
        "outputId": "0bae1558-fe00-4296-822b-e62fe5f8ca3f"
      },
      "source": [
        "# data_wo_labels.head()\r\n",
        "encoder=create_encoder(2)\r\n",
        "decoder=create_decoder(2)\r\n",
        "encoder.summary()\r\n"
      ],
      "execution_count": 7,
      "outputs": [
        {
          "output_type": "stream",
          "text": [
            "Model: \"encoder\"\n",
            "__________________________________________________________________________________________________\n",
            "Layer (type)                    Output Shape         Param #     Connected to                     \n",
            "==================================================================================================\n",
            "input_1 (InputLayer)            [(None, 784)]        0                                            \n",
            "__________________________________________________________________________________________________\n",
            "dense (Dense)                   (None, 32)           25120       input_1[0][0]                    \n",
            "__________________________________________________________________________________________________\n",
            "dense_1 (Dense)                 (None, 16)           528         dense[0][0]                      \n",
            "__________________________________________________________________________________________________\n",
            "z_mean (Dense)                  (None, 2)            34          dense_1[0][0]                    \n",
            "__________________________________________________________________________________________________\n",
            "z_log_var (Dense)               (None, 2)            34          dense_1[0][0]                    \n",
            "__________________________________________________________________________________________________\n",
            "sampling (Sampling)             (None, 2)            0           z_mean[0][0]                     \n",
            "                                                                 z_log_var[0][0]                  \n",
            "==================================================================================================\n",
            "Total params: 25,716\n",
            "Trainable params: 25,716\n",
            "Non-trainable params: 0\n",
            "__________________________________________________________________________________________________\n"
          ],
          "name": "stdout"
        }
      ]
    },
    {
      "cell_type": "code",
      "metadata": {
        "colab": {
          "base_uri": "https://localhost:8080/"
        },
        "id": "B08DN9um9kMl",
        "outputId": "3742822b-f2f3-4122-e737-679bf314e771"
      },
      "source": [
        "latent_dim = 2\r\n",
        "encoder=create_encoder(latent_dim)\r\n",
        "decoder=create_decoder(latent_dim)\r\n",
        "vae = VAE(encoder, decoder)\r\n",
        "vae.compile(optimizer=keras.optimizers.Adam())\r\n",
        "vae.fit(data_in_array, data_labels, epochs=30, batch_size=2) # change to 10"
      ],
      "execution_count": 8,
      "outputs": [
        {
          "output_type": "stream",
          "text": [
            "Epoch 1/30\n",
            "(2, 784)\n",
            "(2, 1)\n",
            "(2, 784)\n",
            "(2, 1)\n",
            "2500/2500 [==============================] - 8s 2ms/step - loss: 336.5614 - reconstruction_loss: 326.5918 - kl_loss: 9.9697\n",
            "Epoch 2/30\n",
            "2500/2500 [==============================] - 6s 2ms/step - loss: 326.1522 - reconstruction_loss: 318.5222 - kl_loss: 7.6300\n",
            "Epoch 3/30\n",
            "2500/2500 [==============================] - 5s 2ms/step - loss: 322.8189 - reconstruction_loss: 317.0078 - kl_loss: 5.8111\n",
            "Epoch 4/30\n",
            "2500/2500 [==============================] - 5s 2ms/step - loss: 321.4953 - reconstruction_loss: 316.5807 - kl_loss: 4.9145\n",
            "Epoch 5/30\n",
            "2500/2500 [==============================] - 5s 2ms/step - loss: 320.4443 - reconstruction_loss: 315.6006 - kl_loss: 4.8438\n",
            "Epoch 6/30\n",
            "2500/2500 [==============================] - 5s 2ms/step - loss: 319.6061 - reconstruction_loss: 315.1931 - kl_loss: 4.4130\n",
            "Epoch 7/30\n",
            "2500/2500 [==============================] - 5s 2ms/step - loss: 319.0706 - reconstruction_loss: 315.0208 - kl_loss: 4.0498\n",
            "Epoch 8/30\n",
            "2500/2500 [==============================] - 6s 2ms/step - loss: 318.5787 - reconstruction_loss: 314.7971 - kl_loss: 3.7816\n",
            "Epoch 9/30\n",
            "2500/2500 [==============================] - 5s 2ms/step - loss: 318.3617 - reconstruction_loss: 314.7841 - kl_loss: 3.5776\n",
            "Epoch 10/30\n",
            "2500/2500 [==============================] - 6s 2ms/step - loss: 317.5597 - reconstruction_loss: 314.5744 - kl_loss: 2.9853\n",
            "Epoch 11/30\n",
            "2500/2500 [==============================] - 6s 2ms/step - loss: 316.7895 - reconstruction_loss: 314.3752 - kl_loss: 2.4143\n",
            "Epoch 12/30\n",
            "2500/2500 [==============================] - 5s 2ms/step - loss: 316.3920 - reconstruction_loss: 314.2910 - kl_loss: 2.1010\n",
            "Epoch 13/30\n",
            "2500/2500 [==============================] - 5s 2ms/step - loss: 315.8678 - reconstruction_loss: 314.0703 - kl_loss: 1.7976\n",
            "Epoch 14/30\n",
            "2500/2500 [==============================] - 5s 2ms/step - loss: 315.8652 - reconstruction_loss: 314.0571 - kl_loss: 1.8082\n",
            "Epoch 15/30\n",
            "2500/2500 [==============================] - 5s 2ms/step - loss: 315.4165 - reconstruction_loss: 313.7679 - kl_loss: 1.6485\n",
            "Epoch 16/30\n",
            "2500/2500 [==============================] - 5s 2ms/step - loss: 315.2633 - reconstruction_loss: 313.7214 - kl_loss: 1.5420\n",
            "Epoch 17/30\n",
            "2500/2500 [==============================] - 5s 2ms/step - loss: 315.4513 - reconstruction_loss: 313.7215 - kl_loss: 1.7297\n",
            "Epoch 18/30\n",
            "2500/2500 [==============================] - 5s 2ms/step - loss: 315.0080 - reconstruction_loss: 313.6132 - kl_loss: 1.3948\n",
            "Epoch 19/30\n",
            "2500/2500 [==============================] - 5s 2ms/step - loss: 315.0236 - reconstruction_loss: 313.5672 - kl_loss: 1.4564\n",
            "Epoch 20/30\n",
            "2500/2500 [==============================] - 5s 2ms/step - loss: 315.0804 - reconstruction_loss: 313.4528 - kl_loss: 1.6275\n",
            "Epoch 21/30\n",
            "2500/2500 [==============================] - 5s 2ms/step - loss: 314.7406 - reconstruction_loss: 313.3385 - kl_loss: 1.4021\n",
            "Epoch 22/30\n",
            "2500/2500 [==============================] - 5s 2ms/step - loss: 314.5518 - reconstruction_loss: 313.3234 - kl_loss: 1.2284\n",
            "Epoch 23/30\n",
            "2500/2500 [==============================] - 5s 2ms/step - loss: 314.5839 - reconstruction_loss: 313.3459 - kl_loss: 1.2380\n",
            "Epoch 24/30\n",
            "2500/2500 [==============================] - 5s 2ms/step - loss: 314.7773 - reconstruction_loss: 313.3895 - kl_loss: 1.3878\n",
            "Epoch 25/30\n",
            "2500/2500 [==============================] - 5s 2ms/step - loss: 314.6265 - reconstruction_loss: 313.4812 - kl_loss: 1.1452\n",
            "Epoch 26/30\n",
            "2500/2500 [==============================] - 5s 2ms/step - loss: 314.6272 - reconstruction_loss: 313.4164 - kl_loss: 1.2108\n",
            "Epoch 27/30\n",
            "2500/2500 [==============================] - 5s 2ms/step - loss: 314.6487 - reconstruction_loss: 313.3498 - kl_loss: 1.2989\n",
            "Epoch 28/30\n",
            "2500/2500 [==============================] - 5s 2ms/step - loss: 314.6303 - reconstruction_loss: 313.4066 - kl_loss: 1.2237\n",
            "Epoch 29/30\n",
            "2500/2500 [==============================] - 5s 2ms/step - loss: 314.5270 - reconstruction_loss: 313.2586 - kl_loss: 1.2684\n",
            "Epoch 30/30\n",
            "2500/2500 [==============================] - 5s 2ms/step - loss: 314.2763 - reconstruction_loss: 313.0067 - kl_loss: 1.2696\n"
          ],
          "name": "stdout"
        },
        {
          "output_type": "execute_result",
          "data": {
            "text/plain": [
              "<tensorflow.python.keras.callbacks.History at 0x7fd9e86ce048>"
            ]
          },
          "metadata": {
            "tags": []
          },
          "execution_count": 8
        }
      ]
    },
    {
      "cell_type": "markdown",
      "metadata": {
        "id": "N16grqVW9tq3"
      },
      "source": [
        "# Sampling"
      ]
    },
    {
      "cell_type": "code",
      "metadata": {
        "id": "7rNsFxESogZV"
      },
      "source": [
        ""
      ],
      "execution_count": null,
      "outputs": []
    },
    {
      "cell_type": "code",
      "metadata": {
        "id": "C9LLz8MHfzwm"
      },
      "source": [
        "zeta=np.random.normal(size=latent_dim)\r\n",
        "mag_data=[]\r\n",
        "for t in temp:\r\n",
        "  mag=0\r\n",
        "  for i in range(100):\r\n",
        "    zeta=list(np.random.normal(size=latent_dim))\r\n",
        "    zeta.append(t)\r\n",
        "    z_sample = [zeta]\r\n",
        "    x_decoded = decoder.predict(z_sample)\r\n",
        "    mag=np.abs(np.sum((2*np.array(x_decoded) - 1)/(28*28))) + mag\r\n",
        "  mag_data.append(mag/100)\r\n",
        "\r\n"
      ],
      "execution_count": 9,
      "outputs": []
    },
    {
      "cell_type": "code",
      "metadata": {
        "colab": {
          "base_uri": "https://localhost:8080/"
        },
        "id": "fNw8NYboCyOk",
        "outputId": "55ccd1aa-5899-48fe-b5e4-c39d568b034f"
      },
      "source": [
        "zeta=np.random.normal(size=latent_dim)\r\n",
        "print(latent_dim)\r\n",
        "print(decoder.summary())"
      ],
      "execution_count": 10,
      "outputs": [
        {
          "output_type": "stream",
          "text": [
            "[0.9999999636411667, 0.9999998980760574, 0.9999996936321258, 0.9999992001056671, 0.999998043179512, 0.9999952453374863, 0.9999848902225494, 0.9999366062879562, 0.9998709100484848, 0.9996475630998611, 0.9991127961874008, 0.9979828327894211, 0.9936815941333771, 0.993193039894104, 0.9907358008623123, 0.9827592384815216, 0.9700018656253815, 0.9686784970760346, 0.942195809930563, 0.9265259802341461, 0.8691129415482283, 0.8193365126848221, 0.6757675998657942, 0.48641587283462284, 0.31601439372636375, 0.16201209128601476, 0.13108733383007348, 0.09244096788577735, 0.08497019372996874, 0.06645856909221039, 0.06742165909614414, 0.06808576292940416, 0.061019894283963365, 0.04668735724873841, 0.048965240591205654, 0.04752888096496463, 0.039102864548331125, 0.0389481721422635, 0.0316094999096822, 0.033791546559077686, 0.026466517017106526, 0.021248038921621627, 0.023181693168589847, 0.022931864850688724, 0.013923025146359578, 0.016037538410164417, 0.015246204219292849, 0.018526508035720327, 0.015979921786347405, 0.016424984920886346]\n",
            "2\n",
            "Model: \"decoder\"\n",
            "_________________________________________________________________\n",
            "Layer (type)                 Output Shape              Param #   \n",
            "=================================================================\n",
            "input_4 (InputLayer)         [(None, 3)]               0         \n",
            "_________________________________________________________________\n",
            "dense_7 (Dense)              (None, 16)                64        \n",
            "_________________________________________________________________\n",
            "dense_8 (Dense)              (None, 32)                544       \n",
            "_________________________________________________________________\n",
            "dense_9 (Dense)              (None, 784)               25872     \n",
            "=================================================================\n",
            "Total params: 26,480\n",
            "Trainable params: 26,480\n",
            "Non-trainable params: 0\n",
            "_________________________________________________________________\n",
            "None\n"
          ],
          "name": "stdout"
        }
      ]
    },
    {
      "cell_type": "code",
      "metadata": {
        "colab": {
          "base_uri": "https://localhost:8080/"
        },
        "id": "6w4kXSv2kyKJ",
        "outputId": "74755472-e63e-4f65-de21-ca5c6f4d0e96"
      },
      "source": [
        "\r\n",
        "decoder.summary()"
      ],
      "execution_count": 14,
      "outputs": [
        {
          "output_type": "stream",
          "text": [
            "Model: \"decoder\"\n",
            "_________________________________________________________________\n",
            "Layer (type)                 Output Shape              Param #   \n",
            "=================================================================\n",
            "input_4 (InputLayer)         [(None, 3)]               0         \n",
            "_________________________________________________________________\n",
            "dense_7 (Dense)              (None, 16)                64        \n",
            "_________________________________________________________________\n",
            "dense_8 (Dense)              (None, 32)                544       \n",
            "_________________________________________________________________\n",
            "dense_9 (Dense)              (None, 784)               25872     \n",
            "=================================================================\n",
            "Total params: 26,480\n",
            "Trainable params: 26,480\n",
            "Non-trainable params: 0\n",
            "_________________________________________________________________\n"
          ],
          "name": "stdout"
        }
      ]
    },
    {
      "cell_type": "code",
      "metadata": {
        "id": "GpFQY-0DZecS"
      },
      "source": [
        "def magnetization(t):\r\n",
        "    return (1-(np.sinh(2/t)**(-4)))**(0.125)"
      ],
      "execution_count": 15,
      "outputs": []
    },
    {
      "cell_type": "code",
      "metadata": {
        "id": "0nuMFFNsZkH1",
        "colab": {
          "base_uri": "https://localhost:8080/"
        },
        "outputId": "d4392099-11b8-4053-a511-3372fb0f480a"
      },
      "source": [
        "x_data = np.arange(.05,3.5,0.001)\r\n",
        "data_y = [magnetization(t) for t in x_data]"
      ],
      "execution_count": 16,
      "outputs": [
        {
          "output_type": "stream",
          "text": [
            "/usr/local/lib/python3.6/dist-packages/ipykernel_launcher.py:2: RuntimeWarning: invalid value encountered in double_scalars\n",
            "  \n"
          ],
          "name": "stderr"
        }
      ]
    },
    {
      "cell_type": "code",
      "metadata": {
        "colab": {
          "base_uri": "https://localhost:8080/",
          "height": 265
        },
        "id": "1CCqScAkXbml",
        "outputId": "d4e44967-7e79-466c-9420-169aef52ca47"
      },
      "source": [
        "import matplotlib.pyplot as plt\r\n",
        "plt.plot(temp,mag_data,'x',x_data,data_y)\r\n",
        "\r\n",
        "\r\n",
        "plt.grid()"
      ],
      "execution_count": 17,
      "outputs": [
        {
          "output_type": "display_data",
          "data": {
            "image/png": "[encoded data removed]",
            "text/plain": [
              "<Figure size 432x288 with 1 Axes>"
            ]
          },
          "metadata": {
            "tags": [],
            "needs_background": "light"
          }
        }
      ]
    },
    {
      "cell_type": "code",
      "metadata": {
        "id": "IC76z64lXgQH"
      },
      "source": [
        "np.savetxt(\"dense_data1_exp\",mag_data)"
      ],
      "execution_count": null,
      "outputs": []
    },
    {
      "cell_type": "code",
      "metadata": {
        "id": "R7uoNUoFX4wY"
      },
      "source": [
        ""
      ],
      "execution_count": null,
      "outputs": []
    }
  ]
}